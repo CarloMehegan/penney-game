{
 "cells": [
  {
   "cell_type": "code",
   "execution_count": 19,
   "id": "30ff2359-0513-4413-853b-1208902bae22",
   "metadata": {},
   "outputs": [],
   "source": [
    "import json\n",
    "import numpy as np\n",
    "import seaborn as sns"
   ]
  },
  {
   "cell_type": "code",
   "execution_count": 20,
   "id": "01b1d798-ab97-4d07-9037-85029053bd6b",
   "metadata": {},
   "outputs": [
    {
     "data": {
      "text/plain": [
       "{\"('000', '001')\": {'player1_wins': 4789, 'player2_wins': 4987},\n",
       " \"('000', '010')\": {'player1_wins': 2889, 'player2_wins': 6907},\n",
       " \"('000', '011')\": {'player1_wins': 1891, 'player2_wins': 7842},\n",
       " \"('000', '100')\": {'player1_wins': 3, 'player2_wins': 9997},\n",
       " \"('000', '101')\": {'player1_wins': 2687, 'player2_wins': 7075},\n",
       " \"('000', '110')\": {'player1_wins': 201, 'player2_wins': 9741},\n",
       " \"('000', '111')\": {'player1_wins': 4875, 'player2_wins': 4777},\n",
       " \"('001', '000')\": {'player1_wins': 4987, 'player2_wins': 4789},\n",
       " \"('001', '010')\": {'player1_wins': 8380, 'player2_wins': 1422},\n",
       " \"('001', '011')\": {'player1_wins': 9312, 'player2_wins': 556},\n",
       " \"('001', '100')\": {'player1_wins': 6, 'player2_wins': 9992},\n",
       " \"('001', '101')\": {'player1_wins': 8319, 'player2_wins': 1433},\n",
       " \"('001', '110')\": {'player1_wins': 4693, 'player2_wins': 4708},\n",
       " \"('001', '111')\": {'player1_wins': 9720, 'player2_wins': 220},\n",
       " \"('010', '000')\": {'player1_wins': 6907, 'player2_wins': 2889},\n",
       " \"('010', '001')\": {'player1_wins': 1422, 'player2_wins': 8380},\n",
       " \"('010', '011')\": {'player1_wins': 4982, 'player2_wins': 4686},\n",
       " \"('010', '100')\": {'player1_wins': 4752, 'player2_wins': 4995},\n",
       " \"('010', '101')\": {'player1_wins': 4931, 'player2_wins': 4775},\n",
       " \"('010', '110')\": {'player1_wins': 1378, 'player2_wins': 8392},\n",
       " \"('010', '111')\": {'player1_wins': 7088, 'player2_wins': 2666},\n",
       " \"('011', '000')\": {'player1_wins': 7842, 'player2_wins': 1891},\n",
       " \"('011', '001')\": {'player1_wins': 556, 'player2_wins': 9312},\n",
       " \"('011', '010')\": {'player1_wins': 4686, 'player2_wins': 4982},\n",
       " \"('011', '100')\": {'player1_wins': 4773, 'player2_wins': 4801},\n",
       " \"('011', '101')\": {'player1_wins': 4976, 'player2_wins': 4771},\n",
       " \"('011', '110')\": {'player1_wins': 9990, 'player2_wins': 7},\n",
       " \"('011', '111')\": {'player1_wins': 10000, 'player2_wins': 0},\n",
       " \"('100', '000')\": {'player1_wins': 9997, 'player2_wins': 3},\n",
       " \"('100', '001')\": {'player1_wins': 9992, 'player2_wins': 6},\n",
       " \"('100', '010')\": {'player1_wins': 4995, 'player2_wins': 4752},\n",
       " \"('100', '011')\": {'player1_wins': 4801, 'player2_wins': 4773},\n",
       " \"('100', '101')\": {'player1_wins': 4721, 'player2_wins': 4956},\n",
       " \"('100', '110')\": {'player1_wins': 520, 'player2_wins': 9358},\n",
       " \"('100', '111')\": {'player1_wins': 7750, 'player2_wins': 1995},\n",
       " \"('101', '000')\": {'player1_wins': 7075, 'player2_wins': 2687},\n",
       " \"('101', '001')\": {'player1_wins': 1433, 'player2_wins': 8319},\n",
       " \"('101', '010')\": {'player1_wins': 4775, 'player2_wins': 4931},\n",
       " \"('101', '011')\": {'player1_wins': 4771, 'player2_wins': 4976},\n",
       " \"('101', '100')\": {'player1_wins': 4956, 'player2_wins': 4721},\n",
       " \"('101', '110')\": {'player1_wins': 1530, 'player2_wins': 8297},\n",
       " \"('101', '111')\": {'player1_wins': 7014, 'player2_wins': 2806},\n",
       " \"('110', '000')\": {'player1_wins': 9741, 'player2_wins': 201},\n",
       " \"('110', '001')\": {'player1_wins': 4708, 'player2_wins': 4693},\n",
       " \"('110', '010')\": {'player1_wins': 8392, 'player2_wins': 1378},\n",
       " \"('110', '011')\": {'player1_wins': 7, 'player2_wins': 9990},\n",
       " \"('110', '100')\": {'player1_wins': 9358, 'player2_wins': 520},\n",
       " \"('110', '101')\": {'player1_wins': 8297, 'player2_wins': 1530},\n",
       " \"('110', '111')\": {'player1_wins': 4984, 'player2_wins': 4767},\n",
       " \"('111', '000')\": {'player1_wins': 4777, 'player2_wins': 4875},\n",
       " \"('111', '001')\": {'player1_wins': 220, 'player2_wins': 9720},\n",
       " \"('111', '010')\": {'player1_wins': 2666, 'player2_wins': 7088},\n",
       " \"('111', '011')\": {'player1_wins': 0, 'player2_wins': 10000},\n",
       " \"('111', '100')\": {'player1_wins': 1995, 'player2_wins': 7750},\n",
       " \"('111', '101')\": {'player1_wins': 2806, 'player2_wins': 7014},\n",
       " \"('111', '110')\": {'player1_wins': 4767, 'player2_wins': 4984}}"
      ]
     },
     "execution_count": 20,
     "metadata": {},
     "output_type": "execute_result"
    }
   ],
   "source": [
    "with open('10000sims_wins_var1') as f:\n",
    "    data = json.load(f)\n",
    "data"
   ]
  },
  {
   "cell_type": "code",
   "execution_count": 21,
   "id": "1fa12438-b68c-4826-bef2-2dcc55d9d30e",
   "metadata": {},
   "outputs": [
    {
     "name": "stdout",
     "output_type": "stream",
     "text": [
      "000 001\n",
      "000 010\n",
      "000 011\n",
      "000 100\n",
      "000 101\n",
      "000 110\n",
      "000 111\n",
      "001 000\n",
      "001 010\n",
      "001 011\n",
      "001 100\n",
      "001 101\n",
      "001 110\n",
      "001 111\n",
      "010 000\n",
      "010 001\n",
      "010 011\n",
      "010 100\n",
      "010 101\n",
      "010 110\n",
      "010 111\n",
      "011 000\n",
      "011 001\n",
      "011 010\n",
      "011 100\n",
      "011 101\n",
      "011 110\n",
      "011 111\n",
      "100 000\n",
      "100 001\n",
      "100 010\n",
      "100 011\n",
      "100 101\n",
      "100 110\n",
      "100 111\n",
      "101 000\n",
      "101 001\n",
      "101 010\n",
      "101 011\n",
      "101 100\n",
      "101 110\n",
      "101 111\n",
      "110 000\n",
      "110 001\n",
      "110 010\n",
      "110 011\n",
      "110 100\n",
      "110 101\n",
      "110 111\n",
      "111 000\n",
      "111 001\n",
      "111 010\n",
      "111 011\n",
      "111 100\n",
      "111 101\n",
      "111 110\n"
     ]
    }
   ],
   "source": [
    "for player_seqs in data.keys():\n",
    "    p1_seq = player_seqs[2:5]\n",
    "    p2_seq = player_seqs[9:12]\n",
    "    print(p1_seq, p2_seq)"
   ]
  },
  {
   "cell_type": "markdown",
   "id": "5f729e3e-07d7-465f-92c7-19610655434c",
   "metadata": {},
   "source": [
    "---"
   ]
  },
  {
   "cell_type": "code",
   "execution_count": 22,
   "id": "a659c1ef-9f6d-43d9-aa64-b21c905a488a",
   "metadata": {},
   "outputs": [],
   "source": [
    "var1_10000 = '10000sims_wins_var1' # Results from variation 1 where N = 10,000"
   ]
  },
  {
   "cell_type": "code",
   "execution_count": 23,
   "id": "1533c6c9-319b-4f09-b5fb-b1b4d69fde41",
   "metadata": {},
   "outputs": [],
   "source": [
    "def get_wins(file:str, p1_seq:str, p2_seq:str):\n",
    "    '''\n",
    "    Get player wins by their color sequences.\n",
    "\n",
    "    Args:\n",
    "        file: Directory to file containing simulation results\n",
    "        p1_seq: Color sequence of player 1\n",
    "        p2_seq: Color sequence of player 2\n",
    "    '''\n",
    "    with open(file) as f:\n",
    "        data = json.load(f)\n",
    "    key = f\"('{p1_seq}', '{p2_seq}')\"\n",
    "    return data[key]"
   ]
  },
  {
   "cell_type": "code",
   "execution_count": 24,
   "id": "35a51a58-03f6-4b87-895b-ba18b295d378",
   "metadata": {},
   "outputs": [
    {
     "data": {
      "text/plain": [
       "{'player1_wins': 4875, 'player2_wins': 4777}"
      ]
     },
     "execution_count": 24,
     "metadata": {},
     "output_type": "execute_result"
    }
   ],
   "source": [
    "get_wins(var1_10000, '000', '111')"
   ]
  }
 ],
 "metadata": {
  "kernelspec": {
   "display_name": "Python 3 (ipykernel)",
   "language": "python",
   "name": "python3"
  },
  "language_info": {
   "codemirror_mode": {
    "name": "ipython",
    "version": 3
   },
   "file_extension": ".py",
   "mimetype": "text/x-python",
   "name": "python",
   "nbconvert_exporter": "python",
   "pygments_lexer": "ipython3",
   "version": "3.11.6"
  }
 },
 "nbformat": 4,
 "nbformat_minor": 5
}
