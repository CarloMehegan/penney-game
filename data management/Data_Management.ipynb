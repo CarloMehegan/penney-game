{
 "cells": [
  {
   "cell_type": "code",
   "execution_count": 1,
   "metadata": {},
   "outputs": [],
   "source": [
    "import numpy as np\n",
    "import pandas as pd\n",
    "import random\n",
    "import itertools \n",
    "import os\n",
    "from collections import defaultdict\n",
    "import json\n",
    "import random\n",
    "import numpy as np\n",
    "from time import time\n",
    "from tqdm import tqdm"
   ]
  },
  {
   "cell_type": "code",
   "execution_count": 2,
   "metadata": {},
   "outputs": [
    {
     "name": "stderr",
     "output_type": "stream",
     "text": [
      "100%|█████████████████████████████████| 10000/10000 [00:00<00:00, 226633.38it/s]\n"
     ]
    }
   ],
   "source": [
    "#creating smaller simulations .npy file\n",
    "red = ['0'] * 26\n",
    "black = ['1'] * 26\n",
    "deck = black + red\n",
    "\n",
    "np.random.seed(123)\n",
    "\n",
    "results = []\n",
    "for i in tqdm(range(10000)):\n",
    "    np.random.shuffle(deck)\n",
    "    results += [int(''.join(deck),2)]\n",
    "\n",
    "np.save('results_10000', results)"
   ]
  },
  {
   "cell_type": "code",
   "execution_count": 3,
   "metadata": {},
   "outputs": [],
   "source": [
    "#load in list of simulations, convert ot binary\n",
    "def load_process_simulations(file_path): \n",
    "    simulations = np.load(file_path)\n",
    "    \n",
    "    def int_to_bit(n):\n",
    "        binary = bin(n)[2:] #what? \n",
    "        return binary.zfill(52)\n",
    "    \n",
    "    binary_simulations = [int_to_bit(sim) for sim in simulations]             \n",
    "    return binary_simulations"
   ]
  },
  {
   "cell_type": "code",
   "execution_count": 4,
   "metadata": {},
   "outputs": [],
   "source": [
    "#for testing\n",
    "processed_sims = load_process_simulations('results_10000.npy')"
   ]
  },
  {
   "cell_type": "code",
   "execution_count": 5,
   "metadata": {},
   "outputs": [],
   "source": [
    "def variation1(deck, player1_sequence, player2_sequence):\n",
    "    player1_cards = 0\n",
    "    player2_cards = 0\n",
    "    pile = 0\n",
    "    \n",
    "    for i in range(len(deck) - 2):\n",
    "        current_sequence = deck[i:i+3]\n",
    "        pile += 1\n",
    "        if current_sequence == player1_sequence:\n",
    "            player1_cards += pile\n",
    "            pile = 0\n",
    "        elif current_sequence == player2_sequence:\n",
    "            player2_cards += pile\n",
    "            pile = 0 \n",
    "    return player1_cards, player2_cards"
   ]
  },
  {
   "cell_type": "code",
   "execution_count": 6,
   "metadata": {},
   "outputs": [],
   "source": [
    "def variation2(deck, player1_sequence, player2_sequence):\n",
    "    player1_tricks = 0\n",
    "    player2_tricks = 0\n",
    "    \n",
    "    for i in range(len(deck) - 2):\n",
    "        current_sequence = deck[i:i+3]\n",
    "        if current_sequence == player1_sequence:\n",
    "            player1_tricks += 1\n",
    "        elif current_sequence == player2_sequence:\n",
    "            player2_tricks += 1\n",
    "    return player1_tricks, player2_tricks"
   ]
  },
  {
   "cell_type": "code",
   "execution_count": 7,
   "metadata": {},
   "outputs": [],
   "source": [
    "def analyze_all_combinations(processed_sims):\n",
    "    all_sequences = [''.join(seq) for seq in itertools.product('01', repeat=3)]\n",
    "    results1 = {(p1, p2): {'player1_wins': 0, 'player2_wins': 0}\n",
    "        for p1 in all_sequences for p2 in all_sequences if p1 != p2}\n",
    "    results2 = {(p1, p2): {'player1_wins': 0, 'player2_wins': 0}\n",
    "        for p1 in all_sequences for p2 in all_sequences if p1 != p2}\n",
    "    \n",
    "    for game in processed_sims:\n",
    "        for (p1_seq, p2_seq), result in results1.items():\n",
    "            p1_cards, p2_cards = variation1(game, p1_seq, p2_seq)\n",
    "            if p1_cards > p2_cards:\n",
    "                result['player1_wins'] += 1\n",
    "            elif p2_cards > p1_cards:\n",
    "                result['player2_wins'] += 1\n",
    "\n",
    "    for game in processed_sims:\n",
    "        for (p1_seq, p2_seq), result in results2.items():\n",
    "            p1_cards, p2_cards = variation2(game, p1_seq, p2_seq)\n",
    "            if p1_cards > p2_cards:\n",
    "                result['player1_wins'] += 1\n",
    "            elif p2_cards > p1_cards:\n",
    "                result['player2_wins'] += 1\n",
    "    return results1, results2"
   ]
  },
  {
   "cell_type": "code",
   "execution_count": 8,
   "metadata": {},
   "outputs": [],
   "source": [
    "results1, results2 = analyze_all_combinations(processed_sims)"
   ]
  },
  {
   "cell_type": "code",
   "execution_count": 9,
   "metadata": {},
   "outputs": [
    {
     "data": {
      "text/html": [
       "<div>\n",
       "<style scoped>\n",
       "    .dataframe tbody tr th:only-of-type {\n",
       "        vertical-align: middle;\n",
       "    }\n",
       "\n",
       "    .dataframe tbody tr th {\n",
       "        vertical-align: top;\n",
       "    }\n",
       "\n",
       "    .dataframe thead th {\n",
       "        text-align: right;\n",
       "    }\n",
       "</style>\n",
       "<table border=\"1\" class=\"dataframe\">\n",
       "  <thead>\n",
       "    <tr style=\"text-align: right;\">\n",
       "      <th></th>\n",
       "      <th>Sequence 1</th>\n",
       "      <th>Sequence 2</th>\n",
       "      <th>Player 1 Wins</th>\n",
       "      <th>Player 2 Wins</th>\n",
       "    </tr>\n",
       "  </thead>\n",
       "  <tbody>\n",
       "    <tr>\n",
       "      <th>0</th>\n",
       "      <td>000</td>\n",
       "      <td>001</td>\n",
       "      <td>4789</td>\n",
       "      <td>4987</td>\n",
       "    </tr>\n",
       "    <tr>\n",
       "      <th>1</th>\n",
       "      <td>000</td>\n",
       "      <td>010</td>\n",
       "      <td>2889</td>\n",
       "      <td>6907</td>\n",
       "    </tr>\n",
       "    <tr>\n",
       "      <th>2</th>\n",
       "      <td>000</td>\n",
       "      <td>011</td>\n",
       "      <td>1891</td>\n",
       "      <td>7842</td>\n",
       "    </tr>\n",
       "    <tr>\n",
       "      <th>3</th>\n",
       "      <td>000</td>\n",
       "      <td>100</td>\n",
       "      <td>3</td>\n",
       "      <td>9997</td>\n",
       "    </tr>\n",
       "    <tr>\n",
       "      <th>4</th>\n",
       "      <td>000</td>\n",
       "      <td>101</td>\n",
       "      <td>2687</td>\n",
       "      <td>7075</td>\n",
       "    </tr>\n",
       "  </tbody>\n",
       "</table>\n",
       "</div>"
      ],
      "text/plain": [
       "  Sequence 1 Sequence 2  Player 1 Wins  Player 2 Wins\n",
       "0        000        001           4789           4987\n",
       "1        000        010           2889           6907\n",
       "2        000        011           1891           7842\n",
       "3        000        100              3           9997\n",
       "4        000        101           2687           7075"
      ]
     },
     "execution_count": 9,
     "metadata": {},
     "output_type": "execute_result"
    }
   ],
   "source": [
    "df1 = pd.DataFrame.from_dict(results1, orient = 'index')\n",
    "df1.reset_index(inplace=True)\n",
    "df1.columns = ['Sequence 1','Sequence 2', 'Player 1 Wins', 'Player 2 Wins']\n",
    "df1.head()\n"
   ]
  },
  {
   "cell_type": "code",
   "execution_count": 10,
   "metadata": {},
   "outputs": [
    {
     "data": {
      "text/html": [
       "<div>\n",
       "<style scoped>\n",
       "    .dataframe tbody tr th:only-of-type {\n",
       "        vertical-align: middle;\n",
       "    }\n",
       "\n",
       "    .dataframe tbody tr th {\n",
       "        vertical-align: top;\n",
       "    }\n",
       "\n",
       "    .dataframe thead th {\n",
       "        text-align: right;\n",
       "    }\n",
       "</style>\n",
       "<table border=\"1\" class=\"dataframe\">\n",
       "  <thead>\n",
       "    <tr style=\"text-align: right;\">\n",
       "      <th></th>\n",
       "      <th>Sequence 1</th>\n",
       "      <th>Sequence 2</th>\n",
       "      <th>Player 1 Wins</th>\n",
       "      <th>Player 2 Wins</th>\n",
       "    </tr>\n",
       "  </thead>\n",
       "  <tbody>\n",
       "    <tr>\n",
       "      <th>0</th>\n",
       "      <td>000</td>\n",
       "      <td>001</td>\n",
       "      <td>3664</td>\n",
       "      <td>5090</td>\n",
       "    </tr>\n",
       "    <tr>\n",
       "      <th>1</th>\n",
       "      <td>000</td>\n",
       "      <td>010</td>\n",
       "      <td>3989</td>\n",
       "      <td>4992</td>\n",
       "    </tr>\n",
       "    <tr>\n",
       "      <th>2</th>\n",
       "      <td>000</td>\n",
       "      <td>011</td>\n",
       "      <td>3364</td>\n",
       "      <td>5179</td>\n",
       "    </tr>\n",
       "    <tr>\n",
       "      <th>3</th>\n",
       "      <td>000</td>\n",
       "      <td>100</td>\n",
       "      <td>3672</td>\n",
       "      <td>5087</td>\n",
       "    </tr>\n",
       "    <tr>\n",
       "      <th>4</th>\n",
       "      <td>000</td>\n",
       "      <td>101</td>\n",
       "      <td>3817</td>\n",
       "      <td>4811</td>\n",
       "    </tr>\n",
       "  </tbody>\n",
       "</table>\n",
       "</div>"
      ],
      "text/plain": [
       "  Sequence 1 Sequence 2  Player 1 Wins  Player 2 Wins\n",
       "0        000        001           3664           5090\n",
       "1        000        010           3989           4992\n",
       "2        000        011           3364           5179\n",
       "3        000        100           3672           5087\n",
       "4        000        101           3817           4811"
      ]
     },
     "execution_count": 10,
     "metadata": {},
     "output_type": "execute_result"
    }
   ],
   "source": [
    "df2 = pd.DataFrame.from_dict(results2, orient = 'index')\n",
    "df2.reset_index(inplace=True)\n",
    "df2.columns = ['Sequence 1','Sequence 2', 'Player 1 Wins', 'Player 2 Wins']\n",
    "df2.head()"
   ]
  },
  {
   "cell_type": "code",
   "execution_count": 11,
   "metadata": {},
   "outputs": [],
   "source": [
    "df1.to_csv('Variation1.csv', index=False)\n",
    "\n",
    "df2.to_csv('Variation2.csv', index=False)"
   ]
  },
  {
   "cell_type": "code",
   "execution_count": null,
   "metadata": {},
   "outputs": [],
   "source": []
  }
 ],
 "metadata": {
  "kernelspec": {
   "display_name": "Python 3 (ipykernel)",
   "language": "python",
   "name": "python3"
  },
  "language_info": {
   "codemirror_mode": {
    "name": "ipython",
    "version": 3
   },
   "file_extension": ".py",
   "mimetype": "text/x-python",
   "name": "python",
   "nbconvert_exporter": "python",
   "pygments_lexer": "ipython3",
   "version": "3.9.7"
  }
 },
 "nbformat": 4,
 "nbformat_minor": 4
}
