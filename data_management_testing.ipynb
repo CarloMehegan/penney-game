{
 "cells": [
  {
   "cell_type": "code",
   "execution_count": 2,
   "id": "75748d94-9623-4e66-9039-ef08877c458c",
   "metadata": {},
   "outputs": [],
   "source": [
    "import numpy as np\n",
    "import random\n",
    "import itertools \n",
    "import os\n",
    "from collections import defaultdict\n",
    "import json"
   ]
  },
  {
   "cell_type": "code",
   "execution_count": 3,
   "id": "b3db8034-f299-4cba-a8fb-59ef3d105f90",
   "metadata": {},
   "outputs": [],
   "source": [
    "import random\n",
    "import numpy as np\n",
    "from time import time\n",
    "from tqdm import tqdm"
   ]
  },
  {
   "cell_type": "code",
   "execution_count": 15,
   "id": "385ad3fe-bfd6-40c5-a006-76de6655dc2f",
   "metadata": {},
   "outputs": [
    {
     "name": "stderr",
     "output_type": "stream",
     "text": [
      "100%|██████████████████████████████████| 10000/10000 [00:00<00:00, 73275.62it/s]\n"
     ]
    }
   ],
   "source": [
    "import numpy as np\n",
    "from tqdm import tqdm\n",
    "\n",
    "red = ['0'] * 26\n",
    "black = ['1'] * 26\n",
    "deck = black + red\n",
    "\n",
    "np.random.seed(123)\n",
    "\n",
    "results = []\n",
    "for i in tqdm(range(10000)):\n",
    "    np.random.shuffle(deck)\n",
    "    results += [int(''.join(deck),2)]\n",
    "\n",
    "np.save('results_10000', results)"
   ]
  },
  {
   "cell_type": "code",
   "execution_count": null,
   "id": "2d55b738-53a5-4ec0-b2a8-208f30fc7099",
   "metadata": {},
   "outputs": [],
   "source": []
  },
  {
   "cell_type": "markdown",
   "id": "77de59b2-c8e8-4195-b723-2b178956dbae",
   "metadata": {},
   "source": [
    "## Reading in Npy "
   ]
  },
  {
   "cell_type": "code",
   "execution_count": 6,
   "id": "937579c8-a728-4b91-8c3b-7c04b543c56b",
   "metadata": {},
   "outputs": [],
   "source": [
    "def load_process_simulations(file_path): \n",
    "    simulations = np.load(file_path)\n",
    "    \n",
    "    def int_to_bit(n):\n",
    "        binary = bin(n)[2:] #what? \n",
    "        return binary.zfill(52)\n",
    "    \n",
    "    binary_simulations = [int_to_bit(sim) for sim in simulations]             \n",
    "    \n",
    "    return binary_simulations             "
   ]
  },
  {
   "cell_type": "code",
   "execution_count": 4,
   "id": "671d6932-8db6-4d83-8c90-8fbb8dd47bbc",
   "metadata": {},
   "outputs": [],
   "source": [
    "processed_sims = load_process_simulations('./penney-game/simulation/results.npy')\n"
   ]
  },
  {
   "cell_type": "code",
   "execution_count": 16,
   "id": "5bf83d47-c401-4aae-8a16-e2780d0343bb",
   "metadata": {},
   "outputs": [],
   "source": [
    "processed_sims = load_process_simulations('results_10000.npy')\n"
   ]
  },
  {
   "cell_type": "code",
   "execution_count": 31,
   "id": "6e5f6dcf-b71b-4fb7-b0be-9967c070f9fc",
   "metadata": {},
   "outputs": [],
   "source": [
    "simulations = np.load('sim1.npy')"
   ]
  },
  {
   "cell_type": "code",
   "execution_count": 32,
   "id": "d62c3f18-86b4-461f-be72-e8c7052ec943",
   "metadata": {},
   "outputs": [
    {
     "data": {
      "text/plain": [
       "array([4354504303719388, 1441862137223036, 3132395670338690,\n",
       "       3857300131579263,  831690148884508,  187288135370219,\n",
       "       1931508377813441, 3900754009753688, 3784952613550390,\n",
       "        762196189488984])"
      ]
     },
     "execution_count": 32,
     "metadata": {},
     "output_type": "execute_result"
    }
   ],
   "source": [
    "simulations #why is the sim1 npy file different? "
   ]
  },
  {
   "cell_type": "code",
   "execution_count": 17,
   "id": "364daf2d-c09d-4d39-8c30-9631ae64822d",
   "metadata": {},
   "outputs": [],
   "source": [
    "def variation1(deck, player1_sequence, player2_sequence):\n",
    "    player1_cards = 0\n",
    "    player2_cards = 0\n",
    "    pile = 0\n",
    "    \n",
    "    for i in range(len(deck) - 2):\n",
    "        current_sequence = deck[i:i+3]\n",
    "        pile += 1\n",
    "        if current_sequence == player1_sequence:\n",
    "            player1_cards += pile\n",
    "            pile = 0\n",
    "        elif current_sequence == player2_sequence:\n",
    "            player2_cards += pile\n",
    "            pile = 0\n",
    "    #what happens to cards in the pile at end of the game? \n",
    "    \n",
    "    return player1_cards, player2_cards"
   ]
  },
  {
   "cell_type": "code",
   "execution_count": 21,
   "id": "e92e2b34-39b4-46cd-ae2e-b6f7e65085ef",
   "metadata": {},
   "outputs": [],
   "source": [
    "def pattern_game_52bits(n, player1_pattern, player2_pattern):\n",
    "    binary_str = bin(n)[2:].zfill(52)\n",
    "    \n",
    "    player1_points = 0\n",
    "    player2_points = 0\n",
    "    \n",
    "    bits_traversed = 0\n",
    "    last_pattern_position = 0\n",
    "    \n",
    "    i = 0\n",
    "    while i <= len(binary_str) - 3: \n",
    "        current_bits = binary_str[i:i+3]\n",
    "        bits_traversed += 1\n",
    "        \n",
    "        if current_bits == player1_pattern:\n",
    "            # add 2 because we are looking at 3 bits at a time\n",
    "            player1_points += bits_traversed - last_pattern_position + 2\n",
    "            last_pattern_position = bits_traversed\n",
    "            i += 2 #overlapping patterns ????????\n",
    "        elif current_bits == player2_pattern:\n",
    "            player2_points += bits_traversed - last_pattern_position + 2\n",
    "            last_pattern_position = bits_traversed\n",
    "            i += 2\n",
    "        i += 1\n",
    "    \n",
    "    return player1_points, player2_points"
   ]
  },
  {
   "cell_type": "code",
   "execution_count": 18,
   "id": "1b8d70ae-eeb1-4941-9c2c-02628c071245",
   "metadata": {},
   "outputs": [],
   "source": [
    "def analyze_all_combinations(processed_sims):\n",
    "    all_sequences = [''.join(seq) for seq in itertools.product('01', repeat=3)]\n",
    "    results = {(p1, p2): {'player1_wins': 0, 'player2_wins': 0}\n",
    "               for p1 in all_sequences for p2 in all_sequences if p1 != p2}\n",
    "    \n",
    "    for deck in processed_sims:\n",
    "        for (p1_seq, p2_seq), result in results.items():\n",
    "            p1_cards, p2_cards = variation1(deck, p1_seq, p2_seq)\n",
    "            if p1_cards > p2_cards:\n",
    "                result['player1_wins'] += 1\n",
    "            elif p2_cards > p1_cards:\n",
    "                result['player2_wins'] += 1\n",
    "    \n",
    "    return results"
   ]
  },
  {
   "cell_type": "code",
   "execution_count": 19,
   "id": "7bdb93ae-0b83-46de-a3d0-0500f252bcb8",
   "metadata": {},
   "outputs": [
    {
     "name": "stdout",
     "output_type": "stream",
     "text": [
      "CPU times: user 7.13 s, sys: 12.9 ms, total: 7.14 s\n",
      "Wall time: 7.26 s\n"
     ]
    },
    {
     "data": {
      "text/plain": [
       "{('000', '001'): {'player1_wins': 4789, 'player2_wins': 4987},\n",
       " ('000', '010'): {'player1_wins': 2889, 'player2_wins': 6907},\n",
       " ('000', '011'): {'player1_wins': 1891, 'player2_wins': 7842},\n",
       " ('000', '100'): {'player1_wins': 3, 'player2_wins': 9997},\n",
       " ('000', '101'): {'player1_wins': 2687, 'player2_wins': 7075},\n",
       " ('000', '110'): {'player1_wins': 201, 'player2_wins': 9741},\n",
       " ('000', '111'): {'player1_wins': 4875, 'player2_wins': 4777},\n",
       " ('001', '000'): {'player1_wins': 4987, 'player2_wins': 4789},\n",
       " ('001', '010'): {'player1_wins': 8380, 'player2_wins': 1422},\n",
       " ('001', '011'): {'player1_wins': 9312, 'player2_wins': 556},\n",
       " ('001', '100'): {'player1_wins': 6, 'player2_wins': 9992},\n",
       " ('001', '101'): {'player1_wins': 8319, 'player2_wins': 1433},\n",
       " ('001', '110'): {'player1_wins': 4693, 'player2_wins': 4708},\n",
       " ('001', '111'): {'player1_wins': 9720, 'player2_wins': 220},\n",
       " ('010', '000'): {'player1_wins': 6907, 'player2_wins': 2889},\n",
       " ('010', '001'): {'player1_wins': 1422, 'player2_wins': 8380},\n",
       " ('010', '011'): {'player1_wins': 4982, 'player2_wins': 4686},\n",
       " ('010', '100'): {'player1_wins': 4752, 'player2_wins': 4995},\n",
       " ('010', '101'): {'player1_wins': 4931, 'player2_wins': 4775},\n",
       " ('010', '110'): {'player1_wins': 1378, 'player2_wins': 8392},\n",
       " ('010', '111'): {'player1_wins': 7088, 'player2_wins': 2666},\n",
       " ('011', '000'): {'player1_wins': 7842, 'player2_wins': 1891},\n",
       " ('011', '001'): {'player1_wins': 556, 'player2_wins': 9312},\n",
       " ('011', '010'): {'player1_wins': 4686, 'player2_wins': 4982},\n",
       " ('011', '100'): {'player1_wins': 4773, 'player2_wins': 4801},\n",
       " ('011', '101'): {'player1_wins': 4976, 'player2_wins': 4771},\n",
       " ('011', '110'): {'player1_wins': 9990, 'player2_wins': 7},\n",
       " ('011', '111'): {'player1_wins': 10000, 'player2_wins': 0},\n",
       " ('100', '000'): {'player1_wins': 9997, 'player2_wins': 3},\n",
       " ('100', '001'): {'player1_wins': 9992, 'player2_wins': 6},\n",
       " ('100', '010'): {'player1_wins': 4995, 'player2_wins': 4752},\n",
       " ('100', '011'): {'player1_wins': 4801, 'player2_wins': 4773},\n",
       " ('100', '101'): {'player1_wins': 4721, 'player2_wins': 4956},\n",
       " ('100', '110'): {'player1_wins': 520, 'player2_wins': 9358},\n",
       " ('100', '111'): {'player1_wins': 7750, 'player2_wins': 1995},\n",
       " ('101', '000'): {'player1_wins': 7075, 'player2_wins': 2687},\n",
       " ('101', '001'): {'player1_wins': 1433, 'player2_wins': 8319},\n",
       " ('101', '010'): {'player1_wins': 4775, 'player2_wins': 4931},\n",
       " ('101', '011'): {'player1_wins': 4771, 'player2_wins': 4976},\n",
       " ('101', '100'): {'player1_wins': 4956, 'player2_wins': 4721},\n",
       " ('101', '110'): {'player1_wins': 1530, 'player2_wins': 8297},\n",
       " ('101', '111'): {'player1_wins': 7014, 'player2_wins': 2806},\n",
       " ('110', '000'): {'player1_wins': 9741, 'player2_wins': 201},\n",
       " ('110', '001'): {'player1_wins': 4708, 'player2_wins': 4693},\n",
       " ('110', '010'): {'player1_wins': 8392, 'player2_wins': 1378},\n",
       " ('110', '011'): {'player1_wins': 7, 'player2_wins': 9990},\n",
       " ('110', '100'): {'player1_wins': 9358, 'player2_wins': 520},\n",
       " ('110', '101'): {'player1_wins': 8297, 'player2_wins': 1530},\n",
       " ('110', '111'): {'player1_wins': 4984, 'player2_wins': 4767},\n",
       " ('111', '000'): {'player1_wins': 4777, 'player2_wins': 4875},\n",
       " ('111', '001'): {'player1_wins': 220, 'player2_wins': 9720},\n",
       " ('111', '010'): {'player1_wins': 2666, 'player2_wins': 7088},\n",
       " ('111', '011'): {'player1_wins': 0, 'player2_wins': 10000},\n",
       " ('111', '100'): {'player1_wins': 1995, 'player2_wins': 7750},\n",
       " ('111', '101'): {'player1_wins': 2806, 'player2_wins': 7014},\n",
       " ('111', '110'): {'player1_wins': 4767, 'player2_wins': 4984}}"
      ]
     },
     "execution_count": 19,
     "metadata": {},
     "output_type": "execute_result"
    }
   ],
   "source": [
    "%%time\n",
    "results = analyze_all_combinations(processed_sims)\n",
    "results"
   ]
  },
  {
   "cell_type": "code",
   "execution_count": 20,
   "id": "8a0c1c68-8d5c-4934-812e-d97110f382ac",
   "metadata": {},
   "outputs": [],
   "source": [
    "string_keyed_results = {str(key): value for key, value in results.items()}\n"
   ]
  },
  {
   "cell_type": "code",
   "execution_count": 21,
   "id": "c396de10-81df-4148-9504-e6463c707ecc",
   "metadata": {},
   "outputs": [],
   "source": [
    "with open('10000_sims_results', 'w') as outfile:\n",
    "    json.dump(string_keyed_results, outfile)"
   ]
  }
 ],
 "metadata": {
  "kernelspec": {
   "display_name": "Python 3 (ipykernel)",
   "language": "python",
   "name": "python3"
  },
  "language_info": {
   "codemirror_mode": {
    "name": "ipython",
    "version": 3
   },
   "file_extension": ".py",
   "mimetype": "text/x-python",
   "name": "python",
   "nbconvert_exporter": "python",
   "pygments_lexer": "ipython3",
   "version": "3.9.7"
  }
 },
 "nbformat": 4,
 "nbformat_minor": 5
}
