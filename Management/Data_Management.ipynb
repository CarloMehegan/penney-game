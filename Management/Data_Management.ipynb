{
 "cells": [
  {
   "cell_type": "code",
   "execution_count": 96,
   "metadata": {},
   "outputs": [],
   "source": [
    "import numpy as np\n",
    "import pandas as pd\n",
    "import random\n",
    "import itertools \n",
    "import os\n",
    "from collections import defaultdict\n",
    "import json\n",
    "import random\n",
    "import numpy as np\n",
    "from time import time\n",
    "from tqdm import tqdm"
   ]
  },
  {
   "cell_type": "code",
   "execution_count": 182,
   "metadata": {},
   "outputs": [
    {
     "name": "stderr",
     "output_type": "stream",
     "text": [
      "100%|██████████| 10000/10000 [00:00<00:00, 350547.76it/s]\n"
     ]
    }
   ],
   "source": [
    "#creating smaller simulations .npy file\n",
    "red = ['0'] * 26\n",
    "black = ['1'] * 26\n",
    "deck = black + red\n",
    "\n",
    "#set seed\n",
    "np.random.seed(123)\n",
    "\n",
    "#shuffle deck for num iterations (10000 in this case)\n",
    "results = []\n",
    "for i in tqdm(range(10000)):\n",
    "    np.random.shuffle(deck)\n",
    "    results += [int(''.join(deck),2)]\n",
    "\n",
    "np.save('results_10000', results)"
   ]
  },
  {
   "cell_type": "code",
   "execution_count": 159,
   "metadata": {},
   "outputs": [],
   "source": [
    "#load in list of simulations, convert ot binary\n",
    "def load_process_simulations(file_path): \n",
    "    simulations = np.load(file_path)\n",
    "    \n",
    "    def int_to_bit(n):\n",
    "        binary = bin(n)[2:] #what? \n",
    "        return binary.zfill(52)\n",
    "    \n",
    "    binary_simulations = [int_to_bit(sim) for sim in simulations]             \n",
    "    return binary_simulations"
   ]
  },
  {
   "cell_type": "code",
   "execution_count": 181,
   "metadata": {},
   "outputs": [],
   "source": [
    "#for testing\n",
    "processed_sims = load_process_simulations('results_10000.npy')"
   ]
  },
  {
   "cell_type": "code",
   "execution_count": 174,
   "metadata": {},
   "outputs": [],
   "source": [
    "processed_sims_total = load_process_simulations('results.npy')"
   ]
  },
  {
   "cell_type": "code",
   "execution_count": 175,
   "metadata": {},
   "outputs": [],
   "source": [
    "def variation1(deck, player1_sequence, player2_sequence):\n",
    "    player1_cards = 0\n",
    "    player2_cards = 0\n",
    "    pile = 0\n",
    "    \n",
    "    for i in range(len(deck) - 2):\n",
    "        current_sequence = deck[i:i+3]\n",
    "        pile += 1\n",
    "        if current_sequence == player1_sequence:\n",
    "            player1_cards += pile\n",
    "            pile = 0\n",
    "        elif current_sequence == player2_sequence:\n",
    "            player2_cards += pile\n",
    "            pile = 0 \n",
    "    return player1_cards, player2_cards"
   ]
  },
  {
   "cell_type": "code",
   "execution_count": 176,
   "metadata": {},
   "outputs": [],
   "source": [
    "def variation2(deck, player1_sequence, player2_sequence):\n",
    "    player1_tricks = 0\n",
    "    player2_tricks = 0\n",
    "    \n",
    "    for i in range(len(deck) - 2):\n",
    "        current_sequence = deck[i:i+3]\n",
    "        if current_sequence == player1_sequence:\n",
    "            player1_tricks += 1\n",
    "        elif current_sequence == player2_sequence:\n",
    "            player2_tricks += 1\n",
    "    return player1_tricks, player2_tricks"
   ]
  },
  {
   "cell_type": "code",
   "execution_count": 177,
   "metadata": {},
   "outputs": [],
   "source": [
    "def analyze_all_combinations_v2(processed_sims):\n",
    "    all_sequences = [''.join(seq) for seq in itertools.product('01', repeat=3)]\n",
    "    \n",
    "    results_v1 = []\n",
    "    results_v2 = []\n",
    "\n",
    "    for p1 in all_sequences:\n",
    "        for p2 in all_sequences:\n",
    "            if p1 != p2:\n",
    "\n",
    "                p1_wins_v1, p2_wins_v1 = 0,0\n",
    "                p1_wins_v2, p2_wins_v2 = 0,0\n",
    "\n",
    "                for game in processed_sims:\n",
    "                    p1_cards_v1, p2_cards_v1 = variation1(game, p1, p2)\n",
    "                    if p1_cards_v1 > p2_cards_v1:\n",
    "                        p1_wins_v1 += 1\n",
    "                    elif p2_cards_v1 > p1_cards_v1:\n",
    "                        p2_wins_v1 += 1\n",
    "                \n",
    "                    p1_cards_v2, p2_cards_v2 = variation2(game, p1, p2)\n",
    "                    if p1_cards_v2 > p2_cards_v2:\n",
    "                        p1_wins_v2 += 1\n",
    "                    elif p2_cards_v2 > p1_cards_v2:\n",
    "                        p2_wins_v2 += 1\n",
    "                \n",
    "                results_v1.append({'Sequence 1': p1, 'Sequence 2': p2, \n",
    "                                   'Player 1 Wins': p1_wins_v1, 'Player 2 Wins': p2_wins_v1, \n",
    "                                   'Player 1 Win %': round((p1_wins_v1/len(processed_sims))*100,2),\n",
    "                                   'Player 2 Win %': round((p2_wins_v1/len(processed_sims))*100,2)})\n",
    "                results_v2.append({'Sequence 1': p1, 'Sequence 2': p2, \n",
    "                                   'Player 1 Wins': p1_wins_v2, 'Player 2 Wins': p2_wins_v2, \n",
    "                                   'Player 1 Win %': round((p1_wins_v2/len(processed_sims))*100,2),\n",
    "                                   'Player 2 Win %': round((p2_wins_v2/len(processed_sims))*100,2)})\n",
    "   \n",
    "    aggreg_df1 = pd.DataFrame(results_v1)\n",
    "    aggreg_df2 = pd.DataFrame(results_v2)\n",
    "\n",
    "    return aggreg_df1, aggreg_df2"
   ]
  },
  {
   "cell_type": "code",
   "execution_count": 178,
   "metadata": {},
   "outputs": [],
   "source": [
    "aggreg_df1, aggreg_df2 = analyze_all_combinations_v2(processed_sims_total) "
   ]
  },
  {
   "cell_type": "code",
   "execution_count": 179,
   "metadata": {},
   "outputs": [
    {
     "data": {
      "text/html": [
       "<div>\n",
       "<style scoped>\n",
       "    .dataframe tbody tr th:only-of-type {\n",
       "        vertical-align: middle;\n",
       "    }\n",
       "\n",
       "    .dataframe tbody tr th {\n",
       "        vertical-align: top;\n",
       "    }\n",
       "\n",
       "    .dataframe thead th {\n",
       "        text-align: right;\n",
       "    }\n",
       "</style>\n",
       "<table border=\"1\" class=\"dataframe\">\n",
       "  <thead>\n",
       "    <tr style=\"text-align: right;\">\n",
       "      <th></th>\n",
       "      <th>Sequence 1</th>\n",
       "      <th>Sequence 2</th>\n",
       "      <th>Player 1 Wins</th>\n",
       "      <th>Player 2 Wins</th>\n",
       "      <th>Player 1 Win %</th>\n",
       "      <th>Player 2 Win %</th>\n",
       "    </tr>\n",
       "  </thead>\n",
       "  <tbody>\n",
       "    <tr>\n",
       "      <th>0</th>\n",
       "      <td>000</td>\n",
       "      <td>001</td>\n",
       "      <td>475278</td>\n",
       "      <td>501157</td>\n",
       "      <td>47.53</td>\n",
       "      <td>50.12</td>\n",
       "    </tr>\n",
       "    <tr>\n",
       "      <th>1</th>\n",
       "      <td>000</td>\n",
       "      <td>010</td>\n",
       "      <td>284778</td>\n",
       "      <td>697059</td>\n",
       "      <td>28.48</td>\n",
       "      <td>69.71</td>\n",
       "    </tr>\n",
       "    <tr>\n",
       "      <th>2</th>\n",
       "      <td>000</td>\n",
       "      <td>011</td>\n",
       "      <td>194577</td>\n",
       "      <td>780437</td>\n",
       "      <td>19.46</td>\n",
       "      <td>78.04</td>\n",
       "    </tr>\n",
       "    <tr>\n",
       "      <th>3</th>\n",
       "      <td>000</td>\n",
       "      <td>100</td>\n",
       "      <td>40</td>\n",
       "      <td>999931</td>\n",
       "      <td>0.00</td>\n",
       "      <td>99.99</td>\n",
       "    </tr>\n",
       "    <tr>\n",
       "      <th>4</th>\n",
       "      <td>000</td>\n",
       "      <td>101</td>\n",
       "      <td>264900</td>\n",
       "      <td>711318</td>\n",
       "      <td>26.49</td>\n",
       "      <td>71.13</td>\n",
       "    </tr>\n",
       "  </tbody>\n",
       "</table>\n",
       "</div>"
      ],
      "text/plain": [
       "  Sequence 1 Sequence 2  Player 1 Wins  Player 2 Wins  Player 1 Win %  \\\n",
       "0        000        001         475278         501157           47.53   \n",
       "1        000        010         284778         697059           28.48   \n",
       "2        000        011         194577         780437           19.46   \n",
       "3        000        100             40         999931            0.00   \n",
       "4        000        101         264900         711318           26.49   \n",
       "\n",
       "   Player 2 Win %  \n",
       "0           50.12  \n",
       "1           69.71  \n",
       "2           78.04  \n",
       "3           99.99  \n",
       "4           71.13  "
      ]
     },
     "execution_count": 179,
     "metadata": {},
     "output_type": "execute_result"
    }
   ],
   "source": [
    "aggreg_df1.head()"
   ]
  },
  {
   "cell_type": "code",
   "execution_count": 180,
   "metadata": {},
   "outputs": [
    {
     "data": {
      "text/html": [
       "<div>\n",
       "<style scoped>\n",
       "    .dataframe tbody tr th:only-of-type {\n",
       "        vertical-align: middle;\n",
       "    }\n",
       "\n",
       "    .dataframe tbody tr th {\n",
       "        vertical-align: top;\n",
       "    }\n",
       "\n",
       "    .dataframe thead th {\n",
       "        text-align: right;\n",
       "    }\n",
       "</style>\n",
       "<table border=\"1\" class=\"dataframe\">\n",
       "  <thead>\n",
       "    <tr style=\"text-align: right;\">\n",
       "      <th></th>\n",
       "      <th>Sequence 1</th>\n",
       "      <th>Sequence 2</th>\n",
       "      <th>Player 1 Wins</th>\n",
       "      <th>Player 2 Wins</th>\n",
       "      <th>Player 1 Win %</th>\n",
       "      <th>Player 2 Win %</th>\n",
       "    </tr>\n",
       "  </thead>\n",
       "  <tbody>\n",
       "    <tr>\n",
       "      <th>0</th>\n",
       "      <td>000</td>\n",
       "      <td>001</td>\n",
       "      <td>361603</td>\n",
       "      <td>510470</td>\n",
       "      <td>36.16</td>\n",
       "      <td>51.05</td>\n",
       "    </tr>\n",
       "    <tr>\n",
       "      <th>1</th>\n",
       "      <td>000</td>\n",
       "      <td>010</td>\n",
       "      <td>401158</td>\n",
       "      <td>499479</td>\n",
       "      <td>40.12</td>\n",
       "      <td>49.95</td>\n",
       "    </tr>\n",
       "    <tr>\n",
       "      <th>2</th>\n",
       "      <td>000</td>\n",
       "      <td>011</td>\n",
       "      <td>330943</td>\n",
       "      <td>519062</td>\n",
       "      <td>33.09</td>\n",
       "      <td>51.91</td>\n",
       "    </tr>\n",
       "    <tr>\n",
       "      <th>3</th>\n",
       "      <td>000</td>\n",
       "      <td>100</td>\n",
       "      <td>361242</td>\n",
       "      <td>510480</td>\n",
       "      <td>36.12</td>\n",
       "      <td>51.05</td>\n",
       "    </tr>\n",
       "    <tr>\n",
       "      <th>4</th>\n",
       "      <td>000</td>\n",
       "      <td>101</td>\n",
       "      <td>376888</td>\n",
       "      <td>485568</td>\n",
       "      <td>37.69</td>\n",
       "      <td>48.56</td>\n",
       "    </tr>\n",
       "  </tbody>\n",
       "</table>\n",
       "</div>"
      ],
      "text/plain": [
       "  Sequence 1 Sequence 2  Player 1 Wins  Player 2 Wins  Player 1 Win %  \\\n",
       "0        000        001         361603         510470           36.16   \n",
       "1        000        010         401158         499479           40.12   \n",
       "2        000        011         330943         519062           33.09   \n",
       "3        000        100         361242         510480           36.12   \n",
       "4        000        101         376888         485568           37.69   \n",
       "\n",
       "   Player 2 Win %  \n",
       "0           51.05  \n",
       "1           49.95  \n",
       "2           51.91  \n",
       "3           51.05  \n",
       "4           48.56  "
      ]
     },
     "execution_count": 180,
     "metadata": {},
     "output_type": "execute_result"
    }
   ],
   "source": [
    "aggreg_df2.head()"
   ]
  },
  {
   "cell_type": "code",
   "execution_count": null,
   "metadata": {},
   "outputs": [],
   "source": [
    "#10000: P1 47.89, P2 49.87; P1 36.64, P2 50.90\n",
    "#20000: P1 47.70, P2 50.02; P1 36.11, P2 51.40\n",
    "#40000: P1 47.88, P2 49.86; P1 36.38, P2 50.81\n",
    "#80000: P1 47.29, P2 50.40; P1 36.13, P2 51.06\n",
    "#160000: P1 47.38, P2 50.33; P1 36.25, P2 51.03\n",
    "\n",
    "#totals for actual sim (results.npy)\n",
    "#       P1 47.53, P2 50.12; P1 36.16, P2 51.05"
   ]
  },
  {
   "cell_type": "markdown",
   "metadata": {},
   "source": [
    "Everything below this is redundant/for testing\n",
    "\n",
    "---"
   ]
  },
  {
   "cell_type": "code",
   "execution_count": 164,
   "metadata": {},
   "outputs": [],
   "source": [
    "# def analyze_all_combinations(processed_sims):\n",
    "#     all_sequences = [''.join(seq) for seq in itertools.product('01', repeat=3)]\n",
    "#     results1 = {(p1, p2): {'player1_wins': 0, 'player2_wins': 0}\n",
    "#         for p1 in all_sequences for p2 in all_sequences if p1 != p2}\n",
    "#     results2 = {(p1, p2): {'player1_wins': 0, 'player2_wins': 0}\n",
    "#         for p1 in all_sequences for p2 in all_sequences if p1 != p2}\n",
    "    \n",
    "#     for game in processed_sims:\n",
    "#         for (p1_seq, p2_seq), result in results1.items():\n",
    "#             p1_cards, p2_cards = variation1(game, p1_seq, p2_seq)\n",
    "#             if p1_cards > p2_cards:\n",
    "#                 result['player1_wins'] += 1\n",
    "#             elif p2_cards > p1_cards:\n",
    "#                 result['player2_wins'] += 1\n",
    "\n",
    "#     for game in processed_sims:\n",
    "#         for (p1_seq, p2_seq), result in results2.items():\n",
    "#             p1_tricks, p2_tricks = variation2(game, p1_seq, p2_seq)\n",
    "#             if p1_tricks > p2_tricks:\n",
    "#                 result['player1_wins'] += 1\n",
    "#             elif p2_cards > p1_cards:\n",
    "#                 result['player2_wins'] += 1\n",
    "#     return results1, results2"
   ]
  },
  {
   "cell_type": "code",
   "execution_count": 165,
   "metadata": {},
   "outputs": [],
   "source": [
    "# results1, results2 = analyze_all_combinations(processed_sims)"
   ]
  },
  {
   "cell_type": "code",
   "execution_count": 166,
   "metadata": {},
   "outputs": [],
   "source": [
    "# df1 = pd.DataFrame.from_dict(results1, orient = 'index')\n",
    "# df1.reset_index(inplace=True)\n",
    "# df1.columns = ['Sequence 1','Sequence 2', 'Player 1 Wins', 'Player 2 Wins']\n",
    "# df1.head()"
   ]
  },
  {
   "cell_type": "code",
   "execution_count": 167,
   "metadata": {},
   "outputs": [],
   "source": [
    "# df2 = pd.DataFrame.from_dict(results2, orient = 'index')\n",
    "# df2.reset_index(inplace=True)\n",
    "# df2.columns = ['Sequence 1','Sequence 2', 'Player 1 Wins', 'Player 2 Wins']\n",
    "# df2.head()"
   ]
  },
  {
   "cell_type": "code",
   "execution_count": 168,
   "metadata": {},
   "outputs": [],
   "source": [
    "# df1.to_csv('Variation1.csv', index=False)\n",
    "\n",
    "# df2.to_csv('Variation2.csv', index=False)"
   ]
  }
 ],
 "metadata": {
  "kernelspec": {
   "display_name": "base",
   "language": "python",
   "name": "python3"
  },
  "language_info": {
   "codemirror_mode": {
    "name": "ipython",
    "version": 3
   },
   "file_extension": ".py",
   "mimetype": "text/x-python",
   "name": "python",
   "nbconvert_exporter": "python",
   "pygments_lexer": "ipython3",
   "version": "3.11.5"
  }
 },
 "nbformat": 4,
 "nbformat_minor": 2
}
